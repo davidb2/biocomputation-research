{
 "cells": [
  {
   "cell_type": "markdown",
   "metadata": {},
   "source": [
    "# Solving Recurrences with Generating Functions"
   ]
  },
  {
   "cell_type": "code",
   "execution_count": 1,
   "metadata": {},
   "outputs": [],
   "source": [
    "import matplotlib.pyplot as plt\n",
    "import numpy as np\n",
    "import pandas as pd\n",
    "import sympy as sp\n",
    "\n",
    "from functools import lru_cache\n",
    "from matplotlib import rc\n",
    "\n",
    "rc('text',  usetex=True)\n",
    "sp.init_printing()"
   ]
  },
  {
   "cell_type": "code",
   "execution_count": 2,
   "metadata": {},
   "outputs": [
    {
     "data": {
      "text/latex": [
       "\n",
       "Consider the mutually recursive sequences:\n",
       "    \n",
       "\\begin{align}\n",
       "    a_n &= \\sum_{k=1}^{n-1}(1-p)^{k-1}p(1+b_{n-k}) \\\\\n",
       "    b_n &= \\sum_{k=2}^{n-1}(1-p)^{k-2}p(1+a_{n-k})\n",
       "\\end{align}\n",
       "\n",
       "where $a_0 = b_0 = 0$.\n"
      ],
      "text/plain": [
       "<IPython.core.display.Latex object>"
      ]
     },
     "metadata": {},
     "output_type": "display_data"
    }
   ],
   "source": [
    "%%latex\n",
    "\n",
    "Consider the mutually recursive sequences:\n",
    "    \n",
    "\\begin{align}\n",
    "    a_n &= \\sum_{k=1}^{n-1}(1-p)^{k-1}p(1+b_{n-k}) \\\\\n",
    "    b_n &= \\sum_{k=2}^{n-1}(1-p)^{k-2}p(1+a_{n-k})\n",
    "\\end{align}\n",
    "\n",
    "where $a_0 = b_0 = 0$."
   ]
  },
  {
   "cell_type": "code",
   "execution_count": 3,
   "metadata": {},
   "outputs": [],
   "source": [
    "@lru_cache(maxsize=None) \n",
    "def fa(n, p): \n",
    "    if n == 0: return 0 \n",
    "    return sum((1-p)**(k-1)*p*(1+fb(n-k, p)) for k in range(1,n)) \n",
    "\n",
    "@lru_cache(maxsize=None) \n",
    "def fb(n, p): \n",
    "    if n == 0: return 0 \n",
    "    return sum((1-p)**(k-2)*p*(1+fa(n-k, p)) for k in range(2,n))"
   ]
  },
  {
   "cell_type": "code",
   "execution_count": 4,
   "metadata": {},
   "outputs": [
    {
     "data": {
      "image/png": "[encoded data removed]",
      "text/latex": [
       "$$3.16015625$$"
      ],
      "text/plain": [
       "3.16015625"
      ]
     },
     "execution_count": 4,
     "metadata": {},
     "output_type": "execute_result"
    }
   ],
   "source": [
    "fa(9, .5)"
   ]
  },
  {
   "cell_type": "code",
   "execution_count": 5,
   "metadata": {},
   "outputs": [
    {
     "data": {
      "text/latex": [
       "We consider the generating functions:\n",
       "\n",
       "\\begin{align}\n",
       "G_a(z) &= \\sum_{n\\geq 0} a_nz^n \\\\\n",
       "       &= \\sum_{n \\geq 1}\\left(\\sum_{k=1}^{n-1}(1-p)^{k-1}p(1+b_{n-k})\\right)z^n  \\\\\n",
       "       &= \\sum_{n \\geq 2}\\left(\\sum_{k=1}^{n-1}(1-p)^{k-1}p\\right)z^n + \\sum_{k\\geq 1}\\left(\\sum_{n > k}(1-p)^{k-1}pb_{n-k}\\right)z^n \\\\\n",
       "       &= \\sum_{n \\geq 2}\\left(\\sum_{k=1}^{n-1}(1-p)^{k-1}p\\right)z^n + G_b(z)\\sum_{k\\geq 1}(1-p)^{k-1}pz^k \\\\\n",
       "\\end{align}\n",
       "and\n",
       "\\begin{align}\n",
       "G_b(z) &= \\sum_{n\\geq 0} b_nz^n \\\\\n",
       "       &= \\sum_{n \\geq 1}\\left(\\sum_{k=2}^{n-1}(1-p)^{k-1}p(1+a_{n-k})\\right)z^n  \\\\\n",
       "       &= \\sum_{n \\geq 3}\\left(\\sum_{k=2}^{n-1}(1-p)^{k-1}p\\right)z^n + \\sum_{k\\geq 2}\\left(\\sum_{n > k}(1-p)^{k-1}pa_{n-k}\\right)z^n \\\\\n",
       "       &= \\sum_{n \\geq 3}\\left(\\sum_{k=2}^{n-1}(1-p)^{k-1}p\\right)z^n + G_a(z)\\sum_{k\\geq 2}(1-p)^{k-1}pz^k \\\\\n",
       "\\end{align}\n",
       "\n",
       "After some simplifications via the geometric sum formula, we get a system of linear equations in $G_a(z)$ and $G_b(z)$.\n"
      ],
      "text/plain": [
       "<IPython.core.display.Latex object>"
      ]
     },
     "metadata": {},
     "output_type": "display_data"
    }
   ],
   "source": [
    "%%latex\n",
    "We consider the generating functions:\n",
    "\n",
    "\\begin{align}\n",
    "G_a(z) &= \\sum_{n\\geq 0} a_nz^n \\\\\n",
    "       &= \\sum_{n \\geq 1}\\left(\\sum_{k=1}^{n-1}(1-p)^{k-1}p(1+b_{n-k})\\right)z^n  \\\\\n",
    "       &= \\sum_{n \\geq 2}\\left(\\sum_{k=1}^{n-1}(1-p)^{k-1}p\\right)z^n + \\sum_{k\\geq 1}\\left(\\sum_{n > k}(1-p)^{k-1}pb_{n-k}\\right)z^n \\\\\n",
    "       &= \\sum_{n \\geq 2}\\left(\\sum_{k=1}^{n-1}(1-p)^{k-1}p\\right)z^n + G_b(z)\\sum_{k\\geq 1}(1-p)^{k-1}pz^k \\\\\n",
    "\\end{align}\n",
    "and\n",
    "\\begin{align}\n",
    "G_b(z) &= \\sum_{n\\geq 0} b_nz^n \\\\\n",
    "       &= \\sum_{n \\geq 1}\\left(\\sum_{k=2}^{n-1}(1-p)^{k-1}p(1+a_{n-k})\\right)z^n  \\\\\n",
    "       &= \\sum_{n \\geq 3}\\left(\\sum_{k=2}^{n-1}(1-p)^{k-1}p\\right)z^n + \\sum_{k\\geq 2}\\left(\\sum_{n > k}(1-p)^{k-1}pa_{n-k}\\right)z^n \\\\\n",
    "       &= \\sum_{n \\geq 3}\\left(\\sum_{k=2}^{n-1}(1-p)^{k-1}p\\right)z^n + G_a(z)\\sum_{k\\geq 2}(1-p)^{k-1}pz^k \\\\\n",
    "\\end{align}\n",
    "\n",
    "After some simplifications via the geometric sum formula, we get a system of linear equations in $G_a(z)$ and $G_b(z)$."
   ]
  },
  {
   "cell_type": "code",
   "execution_count": 6,
   "metadata": {},
   "outputs": [],
   "source": [
    "a, b = sp.symbols('G_a, G_b')\n",
    "z = sp.symbols('z', positive=True)\n",
    "k, j, n = sp.symbols('k, j, n', nonnegative=True)\n",
    "p = sp.symbols('p', positive=True)"
   ]
  },
  {
   "cell_type": "code",
   "execution_count": 7,
   "metadata": {},
   "outputs": [
    {
     "data": {
      "image/png": "[encoded data removed]",
      "text/latex": [
       "$$\\sum_{k=1}^{\\infty} G_{b} p z^{k} \\left(- p + 1\\right)^{k - 1} + \\sum_{\\substack{1 \\leq k \\leq n - 1\\\\2 \\leq n \\leq \\infty}} p z^{n} \\left(- p + 1\\right)^{k - 1}$$"
      ],
      "text/plain": [
       "  ∞                              ∞   n - 1                   \n",
       " ___                            ___   ___                    \n",
       " ╲                              ╲     ╲                      \n",
       "  ╲          k         k - 1     ╲     ╲      n         k - 1\n",
       "  ╱   G_b⋅p⋅z ⋅(-p + 1)      +   ╱     ╱   p⋅z ⋅(-p + 1)     \n",
       " ╱                              ╱     ╱                      \n",
       " ‾‾‾                            ‾‾‾   ‾‾‾                    \n",
       "k = 1                          n = 2 k = 1                   "
      ]
     },
     "execution_count": 7,
     "metadata": {},
     "output_type": "execute_result"
    }
   ],
   "source": [
    "ans1 = sp.Sum(sp.Sum((1-p)**(k-1)*p*z**n, (k,1,n-1)), (n,2,sp.oo)) + sp.Sum((1-p)**(k-1)*p*z**k*b, (k,1,sp.oo))\n",
    "ans1"
   ]
  },
  {
   "cell_type": "code",
   "execution_count": 8,
   "metadata": {},
   "outputs": [],
   "source": [
    "r1 = ans1.doit().subs(z < 1, True).subs(z*sp.Abs(p-1) < 1, True)\n",
    "eq1 = sp.Eq(a, r1)"
   ]
  },
  {
   "cell_type": "code",
   "execution_count": 9,
   "metadata": {},
   "outputs": [
    {
     "data": {
      "image/png": "[encoded data removed]",
      "text/latex": [
       "$$\\sum_{k=2}^{\\infty} G_{a} p z^{k} \\left(- p + 1\\right)^{k - 2} + \\sum_{\\substack{2 \\leq k \\leq n - 1\\\\2 \\leq n \\leq \\infty}} p z^{n} \\left(- p + 1\\right)^{k - 2}$$"
      ],
      "text/plain": [
       "  ∞                             ∞   n - 1                   \n",
       " ___                           ___   ___                    \n",
       " ╲                             ╲     ╲                      \n",
       "  ╲         k         k - 2     ╲     ╲      n         k - 2\n",
       "  ╱   Gₐ⋅p⋅z ⋅(-p + 1)      +   ╱     ╱   p⋅z ⋅(-p + 1)     \n",
       " ╱                             ╱     ╱                      \n",
       " ‾‾‾                           ‾‾‾   ‾‾‾                    \n",
       "k = 2                         n = 2 k = 2                   "
      ]
     },
     "execution_count": 9,
     "metadata": {},
     "output_type": "execute_result"
    }
   ],
   "source": [
    "ans2 = sp.Sum(sp.Sum((1-p)**(k-2)*p*z**n, (k,2,n-1)), (n,2,sp.oo)) + sp.Sum((1-p)**(k-2)*p*z**k*a, (k,2,sp.oo))\n",
    "ans2"
   ]
  },
  {
   "cell_type": "code",
   "execution_count": 10,
   "metadata": {},
   "outputs": [],
   "source": [
    "r2 = ans2.doit().subs(z < 1, True).subs(z*sp.Abs(p-1) < 1, True)\n",
    "eq2 = sp.Eq(b, r2)"
   ]
  },
  {
   "cell_type": "code",
   "execution_count": 11,
   "metadata": {},
   "outputs": [
    {
     "data": {
      "image/png": "[encoded data removed]",
      "text/latex": [
       "$$\\left \\{ G_{a} : \\frac{p z^{2} \\left(p z^{2} + p z - z + 1\\right)}{p^{2} z^{4} - 2 p^{2} z^{3} + p^{2} z^{2} + 2 p z^{3} - 4 p z^{2} + 2 p z - z^{3} + 3 z^{2} - 3 z + 1}, \\quad G_{b} : \\frac{p z^{3} \\left(2 p z - z + 1\\right)}{p^{2} z^{4} - 2 p^{2} z^{3} + p^{2} z^{2} + 2 p z^{3} - 4 p z^{2} + 2 p z - z^{3} + 3 z^{2} - 3 z + 1}\\right \\}$$"
      ],
      "text/plain": [
       "⎧                              2 ⎛   2              ⎞                         \n",
       "⎪                           p⋅z ⋅⎝p⋅z  + p⋅z - z + 1⎠                         \n",
       "⎨Gₐ: ───────────────────────────────────────────────────────────────────────, \n",
       "⎪     2  4      2  3    2  2        3        2            3      2            \n",
       "⎩    p ⋅z  - 2⋅p ⋅z  + p ⋅z  + 2⋅p⋅z  - 4⋅p⋅z  + 2⋅p⋅z - z  + 3⋅z  - 3⋅z + 1  \n",
       "\n",
       "                                  3                                         ⎫\n",
       "                               p⋅z ⋅(2⋅p⋅z - z + 1)                         ⎪\n",
       "G_b: ───────────────────────────────────────────────────────────────────────⎬\n",
       "      2  4      2  3    2  2        3        2            3      2          ⎪\n",
       "     p ⋅z  - 2⋅p ⋅z  + p ⋅z  + 2⋅p⋅z  - 4⋅p⋅z  + 2⋅p⋅z - z  + 3⋅z  - 3⋅z + 1⎭"
      ]
     },
     "execution_count": 11,
     "metadata": {},
     "output_type": "execute_result"
    }
   ],
   "source": [
    "ans = sp.solve((eq1, eq2), (a, b))\n",
    "ans"
   ]
  },
  {
   "cell_type": "code",
   "execution_count": 12,
   "metadata": {},
   "outputs": [
    {
     "data": {
      "image/png": "[encoded data removed]",
      "text/latex": [
       "$$\\left \\{ G_{a} : \\frac{p z^{2} \\left(p z^{2} + z \\left(p - 1\\right) + 1\\right)}{\\left(z - 1\\right)^{2} \\left(p^{2} z^{2} + z \\left(2 p - 1\\right) + 1\\right)}, \\quad G_{b} : \\frac{p z^{3} \\left(z \\left(2 p - 1\\right) + 1\\right)}{\\left(z - 1\\right)^{2} \\left(p^{2} z^{2} + z \\left(2 p - 1\\right) + 1\\right)}\\right \\}$$"
      ],
      "text/plain": [
       "⎧          2 ⎛   2                ⎞                    3                      \n",
       "⎪       p⋅z ⋅⎝p⋅z  + z⋅(p - 1) + 1⎠                 p⋅z ⋅(z⋅(2⋅p - 1) + 1)    \n",
       "⎨Gₐ: ──────────────────────────────────, G_b: ────────────────────────────────\n",
       "⎪           2 ⎛ 2  2                  ⎞              2 ⎛ 2  2                 \n",
       "⎩    (z - 1) ⋅⎝p ⋅z  + z⋅(2⋅p - 1) + 1⎠       (z - 1) ⋅⎝p ⋅z  + z⋅(2⋅p - 1) + \n",
       "\n",
       "  ⎫\n",
       "  ⎪\n",
       "──⎬\n",
       " ⎞⎪\n",
       "1⎠⎭"
      ]
     },
     "execution_count": 12,
     "metadata": {},
     "output_type": "execute_result"
    }
   ],
   "source": [
    "Ga = sp.factor(ans[a], z)\n",
    "Gb = sp.factor(ans[b], z)\n",
    "{a: Ga, b: Gb}"
   ]
  },
  {
   "cell_type": "code",
   "execution_count": 13,
   "metadata": {},
   "outputs": [
    {
     "data": {
      "image/png": "[encoded data removed]",
      "text/latex": [
       "$$\\frac{0.5 z^{2} \\left(0.5 z^{2} - 0.5 z + 1\\right)}{\\left(z - 1\\right)^{2} \\left(0.25 z^{2} + 1\\right)}$$"
      ],
      "text/plain": [
       "     2 ⎛     2            ⎞\n",
       "0.5⋅z ⋅⎝0.5⋅z  - 0.5⋅z + 1⎠\n",
       "───────────────────────────\n",
       "          2 ⎛      2    ⎞  \n",
       "   (z - 1) ⋅⎝0.25⋅z  + 1⎠  "
      ]
     },
     "execution_count": 13,
     "metadata": {},
     "output_type": "execute_result"
    }
   ],
   "source": [
    "Ga.subs(p,.5)"
   ]
  },
  {
   "cell_type": "code",
   "execution_count": 14,
   "metadata": {},
   "outputs": [
    {
     "data": {
      "image/png": "[encoded data removed]",
      "text/latex": [
       "$$0.5 z^{2} + 0.75 z^{3} + 1.125 z^{4} + 1.5625 z^{5} + 1.96875 z^{6} + 2.359375 z^{7} + 2.7578125 z^{8} + 3.16015625 z^{9} + 3.560546875 z^{10} + 3.9599609375 z^{11} + 4.35986328125 z^{12} + 4.760009765625 z^{13} + 5.1600341796875 z^{14} + 5.55999755859375 z^{15} + 5.95999145507813 z^{16} + 6.36000061035156 z^{17} + 6.76000213623047 z^{18} + 7.15999984741211 z^{19} + 7.55999946594238 z^{20} + O\\left(z^{21}\\right)$$"
      ],
      "text/plain": [
       "     2         3          4           5            6             7            \n",
       "0.5⋅z  + 0.75⋅z  + 1.125⋅z  + 1.5625⋅z  + 1.96875⋅z  + 2.359375⋅z  + 2.7578125\n",
       "\n",
       "  8               9                10                 11                  12  \n",
       "⋅z  + 3.16015625⋅z  + 3.560546875⋅z   + 3.9599609375⋅z   + 4.35986328125⋅z   +\n",
       "\n",
       "                 13                    14                     15              \n",
       " 4.760009765625⋅z   + 5.1600341796875⋅z   + 5.55999755859375⋅z   + 5.959991455\n",
       "\n",
       "       16                     17                     18                     19\n",
       "07813⋅z   + 6.36000061035156⋅z   + 6.76000213623047⋅z   + 7.15999984741211⋅z  \n",
       "\n",
       "                     20    ⎛ 21⎞\n",
       " + 7.55999946594238⋅z   + O⎝z  ⎠"
      ]
     },
     "execution_count": 14,
     "metadata": {},
     "output_type": "execute_result"
    }
   ],
   "source": [
    "sp.series(Ga.subs(p,.5), z, n=21)"
   ]
  },
  {
   "cell_type": "code",
   "execution_count": 15,
   "metadata": {},
   "outputs": [
    {
     "data": {
      "image/png": "[encoded data removed]",
      "text/latex": [
       "$$\\left [ 0, \\quad 0, \\quad 0.5, \\quad 0.75, \\quad 1.125, \\quad 1.5625, \\quad 1.96875, \\quad 2.359375, \\quad 2.7578125, \\quad 3.16015625, \\quad 3.560546875, \\quad 3.9599609375, \\quad 4.35986328125, \\quad 4.760009765625, \\quad 5.1600341796875, \\quad 5.55999755859375, \\quad 5.959991455078125, \\quad 6.3600006103515625, \\quad 6.760002136230469, \\quad 7.159999847412109, \\quad 7.559999465942383\\right ]$$"
      ],
      "text/plain": [
       "[0, 0, 0.5, 0.75, 1.125, 1.5625, 1.96875, 2.359375, 2.7578125, 3.16015625, 3.5\n",
       "60546875, 3.9599609375, 4.35986328125, 4.760009765625, 5.1600341796875, 5.5599\n",
       "9755859375, 5.959991455078125, 6.3600006103515625, 6.760002136230469, 7.159999\n",
       "847412109, 7.559999465942383]"
      ]
     },
     "execution_count": 15,
     "metadata": {},
     "output_type": "execute_result"
    }
   ],
   "source": [
    "[fa(x, .5) for x in range(21)]"
   ]
  },
  {
   "cell_type": "code",
   "execution_count": 16,
   "metadata": {},
   "outputs": [
    {
     "data": {
      "image/png": "[encoded data removed]",
      "text/latex": [
       "$$z^{3} \\left(- p^{2} + 2 p\\right) + z^{4} \\left(p^{3} - 2 p^{2} + 3 p\\right) + z^{5} \\left(- p^{4} + 3 p^{3} - 3 p^{2} + 4 p\\right) + z^{6} \\left(p^{5} - 5 p^{4} + 6 p^{3} - 4 p^{2} + 5 p\\right) + z^{7} \\left(- p^{6} + 8 p^{5} - 14 p^{4} + 10 p^{3} - 5 p^{2} + 6 p\\right) + z^{8} \\left(p^{7} - 12 p^{6} + 30 p^{5} - 30 p^{4} + 15 p^{3} - 6 p^{2} + 7 p\\right) + z^{9} \\left(- p^{8} + 17 p^{7} - 58 p^{6} + 80 p^{5} - 55 p^{4} + 21 p^{3} - 7 p^{2} + 8 p\\right) + p z^{2} + O\\left(z^{10}\\right)$$"
      ],
      "text/plain": [
       " 3 ⎛   2      ⎞    4 ⎛ 3      2      ⎞    5 ⎛   4      3      2      ⎞    6 ⎛ \n",
       "z ⋅⎝- p  + 2⋅p⎠ + z ⋅⎝p  - 2⋅p  + 3⋅p⎠ + z ⋅⎝- p  + 3⋅p  - 3⋅p  + 4⋅p⎠ + z ⋅⎝p\n",
       "\n",
       "5      4      3      2      ⎞    7 ⎛   6      5       4       3      2      ⎞ \n",
       "  - 5⋅p  + 6⋅p  - 4⋅p  + 5⋅p⎠ + z ⋅⎝- p  + 8⋅p  - 14⋅p  + 10⋅p  - 5⋅p  + 6⋅p⎠ \n",
       "\n",
       "   8 ⎛ 7       6       5       4       3      2      ⎞    9 ⎛   8       7     \n",
       "+ z ⋅⎝p  - 12⋅p  + 30⋅p  - 30⋅p  + 15⋅p  - 6⋅p  + 7⋅p⎠ + z ⋅⎝- p  + 17⋅p  - 58\n",
       "\n",
       "  6       5       4       3      2      ⎞      2    ⎛ 10⎞\n",
       "⋅p  + 80⋅p  - 55⋅p  + 21⋅p  - 7⋅p  + 8⋅p⎠ + p⋅z  + O⎝z  ⎠"
      ]
     },
     "execution_count": 16,
     "metadata": {},
     "output_type": "execute_result"
    }
   ],
   "source": [
    "sp.series(Ga, z, n=10)"
   ]
  },
  {
   "cell_type": "code",
   "execution_count": 17,
   "metadata": {},
   "outputs": [
    {
     "data": {
      "text/latex": [
       "Notice that $[z^n]G_a(z) = a_n$, as desired.\n"
      ],
      "text/plain": [
       "<IPython.core.display.Latex object>"
      ]
     },
     "metadata": {},
     "output_type": "display_data"
    }
   ],
   "source": [
    "%%latex\n",
    "Notice that $[z^n]G_a(z) = a_n$, as desired."
   ]
  },
  {
   "cell_type": "code",
   "execution_count": 18,
   "metadata": {},
   "outputs": [
    {
     "data": {
      "image/png": "[encoded data removed]",
      "text/latex": [
       "$$\\tilde{\\infty}$$"
      ],
      "text/plain": [
       "zoo"
      ]
     },
     "execution_count": 18,
     "metadata": {},
     "output_type": "execute_result"
    }
   ],
   "source": [
    "(z*sp.simplify(sp.diff(Ga, z))/Ga).subs(z, 1)"
   ]
  },
  {
   "cell_type": "code",
   "execution_count": 19,
   "metadata": {},
   "outputs": [
    {
     "data": {
      "image/png": "[encoded data removed]",
      "text/latex": [
       "$$\\frac{p z^{2} \\left(p z^{2} + z \\left(p - 1\\right) + 1\\right)}{\\left(z - 1\\right)^{2} \\left(p^{2} z^{2} + z \\left(2 p - 1\\right) + 1\\right)}$$"
      ],
      "text/plain": [
       "      2 ⎛   2                ⎞    \n",
       "   p⋅z ⋅⎝p⋅z  + z⋅(p - 1) + 1⎠    \n",
       "──────────────────────────────────\n",
       "       2 ⎛ 2  2                  ⎞\n",
       "(z - 1) ⋅⎝p ⋅z  + z⋅(2⋅p - 1) + 1⎠"
      ]
     },
     "execution_count": 19,
     "metadata": {},
     "output_type": "execute_result"
    }
   ],
   "source": [
    "Ga"
   ]
  },
  {
   "cell_type": "code",
   "execution_count": 20,
   "metadata": {},
   "outputs": [],
   "source": [
    "f = lambda z: sp.ln(Ra) - (n+1)*sp.ln(z)"
   ]
  },
  {
   "cell_type": "code",
   "execution_count": 21,
   "metadata": {},
   "outputs": [],
   "source": [
    "from scipy.optimize import curve_fit\n",
    "E = 1000\n",
    "N = 200\n",
    "X = range(N)"
   ]
  },
  {
   "cell_type": "code",
   "execution_count": 22,
   "metadata": {},
   "outputs": [],
   "source": [
    "# Looks like a(x-1)\n",
    "for pr in np.linspace(0+1/E,1-1/E,E):\n",
    "    ps, err, *_ = np.polyfit(x=X, y=[fa(x, pr) for x in X], deg=1, full=True)\n",
    "    # print(ps, err)"
   ]
  },
  {
   "cell_type": "code",
   "execution_count": 23,
   "metadata": {},
   "outputs": [],
   "source": [
    "# Ansatz: [z^n]G(z) ~ az + b\n",
    "\n",
    "data = [\n",
    "    (pr, np.polyfit(x=X, y=[fa(x, pr) for x in X], deg=1)[0])\n",
    "    for pr in np.linspace(0+1/E,1-1/E,E)\n",
    "]\n",
    "\n",
    "xs, ys = [np.array(z, dtype=np.float64) for z in zip(*data)]"
   ]
  },
  {
   "cell_type": "code",
   "execution_count": 24,
   "metadata": {},
   "outputs": [
    {
     "data": {
      "text/plain": [
       "[<matplotlib.lines.Line2D at 0x7faf164b9668>]"
      ]
     },
     "execution_count": 24,
     "metadata": {},
     "output_type": "execute_result"
    },
    {
     "data": {
      "image/png": "[encoded data removed]",
      "text/plain": [
       "<Figure size 432x288 with 1 Axes>"
      ]
     },
     "metadata": {
      "needs_background": "light"
     },
     "output_type": "display_data"
    },
    {
     "data": {
      "image/png": "[encoded data removed]",
      "text/plain": [
       "<Figure size 432x288 with 1 Axes>"
      ]
     },
     "metadata": {
      "needs_background": "light"
     },
     "output_type": "display_data"
    }
   ],
   "source": [
    "yss = [fa(x, .9) for x in X]\n",
    "ps = np.polyfit(x=X, y=yss, deg=1)\n",
    "plt.scatter(xs, np.polyval(ps, xs))\n",
    "pd.DataFrame(yss).plot(lw=2, marker='o')\n",
    "xss = np.linspace(0, N, E)\n",
    "plt.plot(xss, np.polyval(ps, xs))"
   ]
  },
  {
   "cell_type": "code",
   "execution_count": 25,
   "metadata": {},
   "outputs": [
    {
     "name": "stdout",
     "output_type": "stream",
     "text": [
      "[ 0.37026975 -1.64576683  0.99634195  0.92455208]\n",
      "[[ 9.35702704e-08  4.87583428e-07  2.26361581e-07 -2.53664659e-07]\n",
      " [ 4.87583428e-07  2.61001890e-06  1.26578533e-06 -1.39315741e-06]\n",
      " [ 2.26361581e-07  1.26578533e-06  6.55638017e-07 -7.02659626e-07]\n",
      " [-2.53664659e-07 -1.39315741e-06 -7.02659626e-07  7.61204247e-07]]\n"
     ]
    },
    {
     "data": {
      "text/plain": [
       "Text(0.5,1,'$P_H$ vs. Slope of growth fn')"
      ]
     },
     "execution_count": 25,
     "metadata": {},
     "output_type": "execute_result"
    },
    {
     "data": {
      "image/png": "[encoded data removed]",
      "text/plain": [
       "<Figure size 432x288 with 1 Axes>"
      ]
     },
     "metadata": {
      "needs_background": "light"
     },
     "output_type": "display_data"
    }
   ],
   "source": [
    "# This is a guess.\n",
    "def g(x, a, b, c, d):\n",
    "    return a*np.sinh(b+c*x) + d\n",
    "\n",
    "\n",
    "popt, pcov = curve_fit(g, xs, ys)\n",
    "print(popt)\n",
    "print(pcov)\n",
    "plt.scatter(xs, ys, lw=2)\n",
    "plt.scatter(xs, g(xs, *popt), lw=.02)\n",
    "plt.xlabel('$P_H$')\n",
    "plt.ylabel('Slope')\n",
    "plt.title('$P_H$ vs. Slope of growth fn')\n",
    "\n",
    "\n",
    "# There are two plots on top of each other: orange is on top of blue.\n",
    "\n",
    "\n"
   ]
  },
  {
   "cell_type": "code",
   "execution_count": null,
   "metadata": {},
   "outputs": [],
   "source": []
  },
  {
   "cell_type": "code",
   "execution_count": 26,
   "metadata": {},
   "outputs": [
    {
     "data": {
      "text/latex": [
       "This seems to say that the expected number of connections for a polypeptide with $P_H = p$ and of length $2n$ \n",
       "is around\n",
       "\n",
       "\n",
       "\\begin{align} \\left(0.37026975\\sinh\\left(0.99634195p-1.64576683\\right)+0.92455208\\right)(n-1),\\end{align}\n",
       "\n",
       "with the greedy algorithm. Note that this assumes that the polypeptide has a leading $\\texttt H$ amino acid.\n"
      ],
      "text/plain": [
       "<IPython.core.display.Latex object>"
      ]
     },
     "metadata": {},
     "output_type": "display_data"
    }
   ],
   "source": [
    "%%latex\n",
    "This seems to say that the expected number of connections for a polypeptide with $P_H = p$ and of length $2n$ \n",
    "is around\n",
    "\n",
    "\n",
    "\\begin{align} \\left(0.37026975\\sinh\\left(0.99634195p-1.64576683\\right)+0.92455208\\right)(n-1),\\end{align}\n",
    "\n",
    "with the greedy algorithm. Note that this assumes that the polypeptide has a leading $\\texttt H$ amino acid."
   ]
  },
  {
   "cell_type": "code",
   "execution_count": 27,
   "metadata": {},
   "outputs": [
    {
     "data": {
      "text/latex": [
       "In contrast, the algorithm which just folds a length $2n$ polypeptide in half has an expected number of\n",
       "connections of about $np^2$.\n"
      ],
      "text/plain": [
       "<IPython.core.display.Latex object>"
      ]
     },
     "metadata": {},
     "output_type": "display_data"
    }
   ],
   "source": [
    "%%latex\n",
    "In contrast, the algorithm which just folds a length $2n$ polypeptide in half has an expected number of\n",
    "connections of about $np^2$."
   ]
  },
  {
   "cell_type": "code",
   "execution_count": 28,
   "metadata": {},
   "outputs": [
    {
     "name": "stdout",
     "output_type": "stream",
     "text": [
      "When p > 0.7318517225918733, folding in half is yields more connections in expectation than the greedy algorithm.\n"
     ]
    }
   ],
   "source": [
    "from sympy.functions.elementary.hyperbolic import sinh\n",
    "ITER = 100\n",
    "\n",
    "def gs(p, a, b, c, d):\n",
    "    return a*sinh(b+c*p) + d\n",
    "\n",
    "f1 = gs(p, *popt)*(n-1)\n",
    "f2 = (n-1)*p**2\n",
    "\n",
    "pl = 0.\n",
    "ph = 1.\n",
    "\n",
    "# Use bisection method to find when f1 dominates f2 or vice-versa.\n",
    "for _ in range(ITER):\n",
    "    pm = (pl+ph)/2.\n",
    "    \n",
    "    # Plug in probability.\n",
    "    f1v = f1.subs(p,pm)\n",
    "    f2v = f2.subs(p,pm)\n",
    "    \n",
    "    # Find intersection point(s).\n",
    "    ix = sp.solve(sp.Eq(f1v, f2v), n)\n",
    "    \n",
    "    # Compare slopes.\n",
    "    s1 = sp.diff(f1v, n).subs(n, ix)\n",
    "    s2 = sp.diff(f2v, n).subs(n, ix)\n",
    "    if s1 > s2:\n",
    "        pl = pm\n",
    "    else:\n",
    "        ph = pm\n",
    "\n",
    "print(f'When p > {pm}, folding in half is yields more connections in expectation than the greedy algorithm.')"
   ]
  },
  {
   "cell_type": "code",
   "execution_count": null,
   "metadata": {},
   "outputs": [],
   "source": []
  }
 ],
 "metadata": {
  "kernelspec": {
   "display_name": "Python 3",
   "language": "python",
   "name": "python3"
  },
  "language_info": {
   "codemirror_mode": {
    "name": "ipython",
    "version": 3
   },
   "file_extension": ".py",
   "mimetype": "text/x-python",
   "name": "python",
   "nbconvert_exporter": "python",
   "pygments_lexer": "ipython3",
   "version": "3.6.10"
  }
 },
 "nbformat": 4,
 "nbformat_minor": 2
}
