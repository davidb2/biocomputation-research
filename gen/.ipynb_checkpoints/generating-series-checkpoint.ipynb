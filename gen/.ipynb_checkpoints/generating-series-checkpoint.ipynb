{
 "cells": [
  {
   "cell_type": "code",
   "execution_count": 1,
   "metadata": {},
   "outputs": [],
   "source": [
    "import matplotlib.pyplot as plt\n",
    "import numpy as np\n",
    "import sympy as sp\n",
    "\n",
    "from functools import lru_cache"
   ]
  },
  {
   "cell_type": "code",
   "execution_count": null,
   "metadata": {},
   "outputs": [],
   "source": [
    "@lru_cache(maxsize=None) \n",
    "def fa(n, p): \n",
    "    if n == 0: return 0 \n",
    "    return sum((1-p)**(k-1)*p*(1+fb(n-k)) for k in range(1,n)) \n",
    "\n",
    "@lru_cache(maxsize=None) \n",
    "def fb(n): \n",
    "    if n == 0: return 0 \n",
    "    return sum((1-p)**(k-2)*p*(1+fa(n-k)) for k in range(2,n))"
   ]
  }
 ],
 "metadata": {
  "kernelspec": {
   "display_name": "Python 3",
   "language": "python",
   "name": "python3"
  },
  "language_info": {
   "codemirror_mode": {
    "name": "ipython",
    "version": 3
   },
   "file_extension": ".py",
   "mimetype": "text/x-python",
   "name": "python",
   "nbconvert_exporter": "python",
   "pygments_lexer": "ipython3",
   "version": "3.6.10"
  }
 },
 "nbformat": 4,
 "nbformat_minor": 2
}
